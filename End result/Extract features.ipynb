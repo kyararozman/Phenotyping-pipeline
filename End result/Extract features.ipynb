{
 "cells": [
  {
   "cell_type": "markdown",
   "id": "0d94db2d",
   "metadata": {},
   "source": [
    "Import libraries"
   ]
  },
  {
   "cell_type": "code",
   "execution_count": null,
   "id": "3e13d644",
   "metadata": {},
   "outputs": [],
   "source": [
    "import pandas as pd\n",
    "import numpy as np\n",
    "from itertools import combinations\n",
    "from pathlib import Path\n",
    "from scipy.spatial.distance import pdist, squareform\n",
    "import string"
   ]
  },
  {
   "cell_type": "markdown",
   "id": "fbe463f5",
   "metadata": {},
   "source": [
    "Make dataframe for all features"
   ]
  },
  {
   "cell_type": "code",
   "execution_count": null,
   "id": "59f6878f",
   "metadata": {},
   "outputs": [],
   "source": [
    "df_distance = pd.DataFrame()\n",
    "df_areas = pd.DataFrame()\n",
    "df_angle = pd.DataFrame()"
   ]
  },
  {
   "cell_type": "markdown",
   "id": "4f35626b",
   "metadata": {},
   "source": [
    "read in large file (after imputing missing values)"
   ]
  },
  {
   "cell_type": "code",
   "execution_count": null,
   "id": "a2069986",
   "metadata": {},
   "outputs": [],
   "source": [
    "df_complete = pd.read_csv(\"/imputed_bigdf.csv\",header=0)# get file path\n",
    "print(df_complete.shape)"
   ]
  },
  {
   "cell_type": "markdown",
   "id": "af2309e5",
   "metadata": {},
   "source": [
    "get correct columns and bodyparts"
   ]
  },
  {
   "cell_type": "code",
   "execution_count": null,
   "id": "6ce86afe",
   "metadata": {},
   "outputs": [],
   "source": [
    "# specify header, minus bodypart coords and videoname columns\n",
    "headertotal = list(df_complete.columns)[1:-1]\n",
    "\n",
    "# extract columns with x and y \n",
    "coordinates_columnx = [string for index, string in enumerate(headertotal) if 'x' in string]\n",
    "coordinates_columny = [string for index, string in enumerate(headertotal) if 'y' in string]\n",
    "coordinates_columns = [x for y in zip(coordinates_columnx, coordinates_columny) for x in y]\n",
    "\n",
    "# extract bodypart names\n",
    "bodyparts_names = []\n",
    "for i in range(0,len(coordinates_columns),2):\n",
    "    name_string = list(filter(lambda x: x in coordinates_columns[i], coordinates_columns[i+1]))\n",
    "    bodyparts_names.append(\"\".join([str(item) for item in name_string]))\n",
    "for i in range(len(bodyparts_names)):\n",
    "    bodyparts_names[i] = bodyparts_names[i].split('.')[0]"
   ]
  },
  {
   "cell_type": "markdown",
   "id": "7bca0daa",
   "metadata": {},
   "source": [
    "get header for distance function"
   ]
  },
  {
   "cell_type": "code",
   "execution_count": null,
   "id": "19a23d86",
   "metadata": {},
   "outputs": [],
   "source": [
    "distance_columns = []\n",
    "for i in range(len(bodyparts_names)):\n",
    "    for j in range(i,len(bodyparts_names)):\n",
    "        if i != j:\n",
    "            if i != 5:\n",
    "                distance_columns.append('Dist_'+bodyparts_names[i]+'_'+bodyparts_names[j])\n",
    "print(distance_columns)"
   ]
  },
  {
   "cell_type": "markdown",
   "id": "10380c9d",
   "metadata": {},
   "source": [
    "Pairwise distance"
   ]
  },
  {
   "cell_type": "code",
   "execution_count": null,
   "id": "8d2e72d9",
   "metadata": {},
   "outputs": [],
   "source": [
    "def pairwise_distances(df):\n",
    "    # x, y, prob for each body part\n",
    "    num_points = (df.shape[1] - 2) // 3  \n",
    "    distances = []\n",
    "\n",
    "    #for i in range(len(df)):\n",
    "    for index, row in df.iterrows():\n",
    "        # Extract coordinates for all points at timepoint i\n",
    "        coordinates = row.loc[coordinates_columns].apply(pd.to_numeric, errors='raise').to_numpy().reshape(-1, 2)\n",
    "        \n",
    "        # Calculate pairwise distances for all pairs of points at timepoint i\n",
    "        point_distances = pdist(coordinates, metric='euclidean')\n",
    "\n",
    "        # Append the distances to the list\n",
    "        distances.append(point_distances)\n",
    "\n",
    "    # Convert the list of distances to a DataFrame\n",
    "    distances_df = pd.DataFrame(distances,columns = distance_columns)\n",
    "    distances_df.index = df.index\n",
    "    return distances_df"
   ]
  },
  {
   "cell_type": "code",
   "execution_count": null,
   "id": "b32d436c",
   "metadata": {
    "scrolled": true
   },
   "outputs": [],
   "source": [
    "for vid in df_complete['videoname'].unique():\n",
    "    df_dist = pairwise_distances(df_complete.loc[df_complete['videoname']==vid])\n",
    "    df_dist['videoname'] = vid\n",
    "    df_distance = df_distance.append(df_dist)"
   ]
  },
  {
   "cell_type": "code",
   "execution_count": null,
   "id": "80180245",
   "metadata": {},
   "outputs": [],
   "source": [
    "# get mean distance parameters over videos\n",
    "dist_grouped = df_distance.groupby('videoname')\n",
    "dist_average = dist_grouped.mean()"
   ]
  },
  {
   "cell_type": "code",
   "execution_count": null,
   "id": "311907e7",
   "metadata": {},
   "outputs": [],
   "source": [
    "def triangle_areas(df):\n",
    "    num_points = (df.shape[1] - 2) // 3\n",
    "    areas = []\n",
    "    count = 0\n",
    "    header = []\n",
    "\n",
    "    for index, row in df.iterrows():\n",
    "        # Extract coordinates for all points at timepoint i\n",
    "        coordinates =  row.loc[coordinates_columns].apply(pd.to_numeric, errors='raise').to_numpy().reshape(-1, 2)\n",
    "        \n",
    "        # Generate all possible combinations of three points\n",
    "        point_combinations = list(combinations(range(num_points), 3))\n",
    "            \n",
    "        # Calculate the area of the triangles for each combination of three points\n",
    "        triangle_areas = []\n",
    "        for combination in point_combinations:\n",
    "            x1, y1 = coordinates[combination[0]]\n",
    "            x2, y2 = coordinates[combination[1]]\n",
    "            x3, y3 = coordinates[combination[2]]\n",
    "            if count == 0:\n",
    "                header.append('Area_'+bodyparts_names[combination[0]]+'_'+bodyparts_names[combination[1]]+'_'+bodyparts_names[combination[2]])\n",
    "            \n",
    "            # Calculate the area of the triangle using the shoelace formula\n",
    "            area = 0.5 * np.abs(x1 * (y2 - y3) + x2 * (y3 - y1) + x3 * (y1 - y2))\n",
    "            triangle_areas.append(area)\n",
    "\n",
    "        # Append the areas to the list\n",
    "        areas.append(triangle_areas)\n",
    "        count += 1\n",
    "    \n",
    "    # Convert the list of areas to a DataFrame\n",
    "    areas_df = pd.DataFrame(areas, columns=[header])\n",
    "    areas_df.index = df.index\n",
    "    return areas_df"
   ]
  },
  {
   "cell_type": "code",
   "execution_count": null,
   "id": "18988180",
   "metadata": {
    "scrolled": true
   },
   "outputs": [],
   "source": [
    "df_areas = pd.DataFrame()\n",
    "for vid in df_complete['videoname'].unique():\n",
    "    df_areas_inter = triangle_areas(df_complete.loc[df_complete['videoname']==vid])\n",
    "    df_areas_inter['videoname']= vid\n",
    "    df_areas = df_areas.append(df_areas_inter)"
   ]
  },
  {
   "cell_type": "code",
   "execution_count": null,
   "id": "48c10339",
   "metadata": {},
   "outputs": [],
   "source": [
    "areas_header_new = []\n",
    "for i in list(df_areas.columns.values):\n",
    "    areas_header_new.append(i[0])\n",
    "               \n",
    "df_renamed = df_areas.copy()\n",
    "df_renamed.columns = areas_header_new"
   ]
  },
  {
   "cell_type": "code",
   "execution_count": null,
   "id": "366a389a",
   "metadata": {},
   "outputs": [],
   "source": [
    "# get mean area parameters over videos\n",
    "areas_grouped = df_renamed.groupby('videoname')\n",
    "areas_average = areas_grouped.mean()"
   ]
  },
  {
   "cell_type": "code",
   "execution_count": null,
   "id": "d1949222",
   "metadata": {},
   "outputs": [],
   "source": [
    "def triangle_angles(df):\n",
    "    num_points = (df.shape[1] - 2) // 3\n",
    "    angles = []\n",
    "    header = []\n",
    "    count = 0\n",
    " \n",
    "    for index, row in df.iterrows():\n",
    "        # Extract coordinates for all points at timepoint i\n",
    "        coordinates = row.loc[coordinates_columns].apply(pd.to_numeric, errors='raise').to_numpy().reshape(-1, 2)\n",
    "            \n",
    "        # Generate all possible combinations of three points\n",
    "        point_combinations = list(combinations(range(num_points), 3))\n",
    "        \n",
    "        # Calculate the angles for each combination of three points\n",
    "        triangle_angles = []\n",
    "        for combination in point_combinations:\n",
    "            x1, y1 = coordinates[combination[0]] #A\n",
    "            x2, y2 = coordinates[combination[1]] #B\n",
    "            x3, y3 = coordinates[combination[2]] #C\n",
    "\n",
    "            # Calculate the lengths of the sides of the triangle\n",
    "            a = np.linalg.norm(np.array([x2, y2]) - np.array([x3, y3])) #opposite side \n",
    "            b = np.linalg.norm(np.array([x1, y1]) - np.array([x3, y3]))\n",
    "            c = np.linalg.norm(np.array([x1, y1]) - np.array([x2, y2]))\n",
    "\n",
    "            # Calculate the angles using the law of cosines\n",
    "            angle_a = np.arccos((b**2 + c**2 - a**2) / (2 * b * c)) # BAC\n",
    "            angle_b = np.arccos((a**2 + c**2 - b**2) / (2 * a * c)) # ABC\n",
    "            angle_c = np.arccos((a**2 + b**2 - c**2) / (2 * a * b)) # ACB\n",
    "            \n",
    "            # Append the angles to the list\n",
    "            triangle_angles.extend([angle_a, angle_b, angle_c])\n",
    "            if count ==0:\n",
    "                #angle a\n",
    "                header.append('Angle_'+ bodyparts_names[combination[1]]+'_'+bodyparts_names[combination[0]]+'_'+bodyparts_names[combination[2]])\n",
    "                #angle b\n",
    "                header.append('Angle_'+ bodyparts_names[combination[0]]+'_'+bodyparts_names[combination[1]]+'_'+bodyparts_names[combination[2]])\n",
    "                #angle c\n",
    "                header.append('Angle_'+ bodyparts_names[combination[0]]+'_'+bodyparts_names[combination[2]]+'_'+bodyparts_names[combination[1]])\n",
    "           \n",
    "        # Append the angles to the list\n",
    "        angles.append(triangle_angles)\n",
    "        count += 1\n",
    "\n",
    "    # Convert the list of angles to a DataFrame\n",
    "    angles_df = pd.DataFrame(angles, columns=[header])\n",
    "    angles_df.index = df.index\n",
    "\n",
    "    return angles_df"
   ]
  },
  {
   "cell_type": "code",
   "execution_count": null,
   "id": "1318a1e8",
   "metadata": {},
   "outputs": [],
   "source": [
    "df_angle = pd.DataFrame()\n",
    "for vid in df_complete['videoname'].unique():\n",
    "    df_triangle_angles = triangle_angles(df_complete.loc[df_complete['videoname']==vid])\n",
    "    df_triangle_angles['videoname']= vid\n",
    "    df_angle = df_angle.append(df_triangle_angles)"
   ]
  },
  {
   "cell_type": "code",
   "execution_count": null,
   "id": "e87e8177",
   "metadata": {},
   "outputs": [],
   "source": [
    "angles_header_new = []\n",
    "for i in list(df_angle.columns.values):\n",
    "    angles_header_new.append(i[0])\n",
    "               \n",
    "df_renamed_angles = df_angle.copy()\n",
    "df_renamed_angles.columns = angles_header_new"
   ]
  },
  {
   "cell_type": "code",
   "execution_count": null,
   "id": "b49ea754",
   "metadata": {},
   "outputs": [],
   "source": [
    "# get mean angle parameters over videos\n",
    "angle_grouped = df_renamed_angles.groupby('videoname')\n",
    "angle_average = angle_grouped.mean()"
   ]
  },
  {
   "cell_type": "code",
   "execution_count": null,
   "id": "83450d5a",
   "metadata": {},
   "outputs": [],
   "source": [
    "# change column names in the average dataframes and then merge with feature df where I only specific videoname \n",
    "\n",
    "# set df_features + videoname column so it is ready for left merge\n",
    "df_features = pd.DataFrame()\n",
    "df_features['videoname'] = df_complete['videoname'].unique()\n",
    "\n",
    "# loop through the three feature df's\n",
    "for df in [df_distance,df_renamed,df_renamed_angles]:\n",
    "    for i in ['mean_', 'median_', 'var_', 'std_']:\n",
    "    \n",
    "    # loop through the 4 stats we want to extract per feature\n",
    "        df_loop = df.copy()\n",
    "        header_renamed = []\n",
    "        \n",
    "        #change header to include specific stat\n",
    "        valueslist = list(df_loop.columns.values)\n",
    "        valueslist.remove('videoname')\n",
    "        header_renamed = [i+j for j in valueslist]\n",
    "        header_renamed.append('videoname')\n",
    "        df_loop.columns = header_renamed\n",
    "        grouped = df_loop.groupby('videoname')\n",
    "        \n",
    "        # extract feature and append to df_features\n",
    "        if i == 'mean_':\n",
    "            df_features = df_features.merge(grouped.mean(),on='videoname',how='left')\n",
    "        if i == 'median_':\n",
    "            df_features = df_features.merge(grouped.median(),on='videoname',how='left')\n",
    "        if i == 'var_':\n",
    "            df_features = df_features.merge(grouped.var(),on='videoname',how='left')\n",
    "        if i == 'std_':\n",
    "            df_features = df_features.merge(grouped.std(),on='videoname',how='left')"
   ]
  },
  {
   "cell_type": "markdown",
   "id": "8250d6aa",
   "metadata": {},
   "source": [
    "Exporting files"
   ]
  },
  {
   "cell_type": "code",
   "execution_count": null,
   "id": "43444734",
   "metadata": {},
   "outputs": [],
   "source": [
    "print(len(list(df_features.columns.values)))"
   ]
  },
  {
   "cell_type": "code",
   "execution_count": null,
   "id": "e2c0b0a4",
   "metadata": {},
   "outputs": [],
   "source": [
    "# file paths for exporting data\n",
    "filepath = \"\"\n",
    "\n",
    "# export as big feature dataframe\n",
    "df_features.to_csv(filepath+\"features_big_stats_df.csv\",index=False)\n",
    "\n",
    "# export as single features dataframe, no stats\n",
    "df_distance.to_csv(filepath+\"distance_feature_df.csv\",index=False)\n",
    "df_renamed.to_csv(filepath+\"areas_feature_df.csv\",index=False)\n",
    "df_renamed_angles.to_csv(filepath+\"angle_feature_df.csv\",index=False)"
   ]
  },
  {
   "cell_type": "code",
   "execution_count": null,
   "id": "2e102f2e",
   "metadata": {},
   "outputs": [],
   "source": [
    "# check if no NaN in df_features\n",
    "df_features.isnull().values.any() # is False so no null values :D"
   ]
  },
  {
   "cell_type": "code",
   "execution_count": null,
   "id": "395925a4",
   "metadata": {},
   "outputs": [],
   "source": [
    "df_features.head(10)"
   ]
  }
 ],
 "metadata": {
  "kernelspec": {
   "display_name": "Python 3 (ipykernel)",
   "language": "python",
   "name": "python3"
  },
  "language_info": {
   "codemirror_mode": {
    "name": "ipython",
    "version": 3
   },
   "file_extension": ".py",
   "mimetype": "text/x-python",
   "name": "python",
   "nbconvert_exporter": "python",
   "pygments_lexer": "ipython3",
   "version": "3.8.8"
  }
 },
 "nbformat": 4,
 "nbformat_minor": 5
}
