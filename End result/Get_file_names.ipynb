{
 "cells": [
  {
   "cell_type": "code",
   "execution_count": 1,
   "id": "651ce8d1",
   "metadata": {},
   "outputs": [],
   "source": [
    "# Get file names after downsampled data csv's have been made"
   ]
  },
  {
   "cell_type": "code",
   "execution_count": 2,
   "id": "a6932ba1",
   "metadata": {},
   "outputs": [],
   "source": [
    "from pathlib import Path"
   ]
  },
  {
   "cell_type": "code",
   "execution_count": 3,
   "id": "fd1b3867",
   "metadata": {},
   "outputs": [],
   "source": [
    "# create list \n",
    "names = []\n",
    "\n",
    "#specify starting directory as the one we are working in now with this Jupyter file\n",
    "input_dir = Path.cwd()\n",
    "\n",
    "# loop through video paths and retrieve metadata\n",
    "for path in list(input_dir.rglob(\"*.csv*\")):\n",
    "    names.append(path.stem)"
   ]
  },
  {
   "cell_type": "code",
   "execution_count": 4,
   "id": "b459d4a2",
   "metadata": {},
   "outputs": [],
   "source": [
    "with open(\"genetic_names.txt\", 'w') as output:\n",
    "    for row in names:\n",
    "        output.write(str(row) + '\\n')"
   ]
  },
  {
   "cell_type": "code",
   "execution_count": null,
   "id": "85c95c74",
   "metadata": {},
   "outputs": [],
   "source": []
  }
 ],
 "metadata": {
  "kernelspec": {
   "display_name": "Python 3 (ipykernel)",
   "language": "python",
   "name": "python3"
  },
  "language_info": {
   "codemirror_mode": {
    "name": "ipython",
    "version": 3
   },
   "file_extension": ".py",
   "mimetype": "text/x-python",
   "name": "python",
   "nbconvert_exporter": "python",
   "pygments_lexer": "ipython3",
   "version": "3.10.9"
  }
 },
 "nbformat": 4,
 "nbformat_minor": 5
}
