{
 "cells": [
  {
   "cell_type": "code",
   "execution_count": null,
   "id": "c0d954e7",
   "metadata": {},
   "outputs": [],
   "source": [
    "#pip install moviepy\n",
    "import moviepy\n",
    "from moviepy.editor import VideoFileClip\n",
    "from pathlib import Path\n",
    "import pandas as pd\n",
    "import numpy as np\n",
    "import random\n",
    "import os"
   ]
  },
  {
   "cell_type": "code",
   "execution_count": null,
   "id": "e742ff97",
   "metadata": {},
   "outputs": [],
   "source": [
    "# variables\n",
    "DLC_csvname = '' #change to namepart that does not correspond to avi.\n",
    "header_use = [1] # to select the header row later\n",
    "coordinates_use = [2] # to select the coordinates row later"
   ]
  },
  {
   "cell_type": "code",
   "execution_count": null,
   "id": "20f8b440",
   "metadata": {},
   "outputs": [],
   "source": [
    "#specify starting directory as the one we are working in now with this Jupyter file\n",
    "input_dir = Path.cwd()"
   ]
  },
  {
   "cell_type": "code",
   "execution_count": null,
   "id": "e0dc71a2",
   "metadata": {},
   "outputs": [],
   "source": [
    "# extract header before everything. Not the most efficient but then the header is correct from the beginning.\n",
    "pathheader = random.choice(list(input_dir.rglob(\"*.avi*\")))\n",
    "fileheader, file_ex = os.path.splitext(pathheader)\n",
    "csv_header = fileheader + DLC_csvname + '.csv'\n",
    "\n",
    "# extract header\n",
    "header = pd.read_csv(csv_header,skiprows=lambda x: x not in header_use)\n",
    "coordinates = pd.read_csv(csv_header,skiprows=lambda x: x not in coordinates_use)\n",
    "\n",
    "# combine \n",
    "headertotal = [x+str(y) for x,y in zip(header,coordinates)]\n",
    "headertotal.append('videoname')"
   ]
  },
  {
   "cell_type": "code",
   "execution_count": null,
   "id": "09762b03",
   "metadata": {},
   "outputs": [],
   "source": [
    "# creating folder for downsampled and completed pre-processed data\n",
    "os.makedirs(\"Downsampled_data\", exist_ok=True)\n",
    "os.makedirs(\"pre-processed data\", exist_ok=True)"
   ]
  },
  {
   "cell_type": "code",
   "execution_count": null,
   "id": "88e07fad",
   "metadata": {
    "scrolled": true
   },
   "outputs": [],
   "source": [
    "#create big dataframe\n",
    "df_big = pd.DataFrame(columns = headertotal) #run everything once, otherwise \n",
    "\n",
    "# loop through video paths and retrieve metadata\n",
    "for path in list(input_dir.rglob(\"*.avi*\")):\n",
    "    \n",
    "    # retrieve frames per second metadata from video\n",
    "    fps = int(VideoFileClip(str(path)).fps)\n",
    "    \n",
    "    #select corresponding csv to video to get correct data, given that it is in the same folder as the .avi\n",
    "    filename, fileextension = os.path.splitext(path)\n",
    "    csv = filename + DLC_csvname + '.csv'\n",
    "    \n",
    "    #load data\n",
    "    df_temp = pd.read_csv(csv, header=None, names = headertotal,skiprows=3)\n",
    "    \n",
    "    # add column with the name of the video \n",
    "    df_temp['videoname'] = path.stem\n",
    "   \n",
    "    #export df for saving the downsampled data\n",
    "    df_export = pd.DataFrame()\n",
    "    \n",
    "    # length of the total dataframe\n",
    "    len_frames = len(df_temp)\n",
    "\n",
    "    # set starting values for indexing\n",
    "    start = 0\n",
    "    end = fps\n",
    "    \n",
    "    # loop through data while we have not reached the end. This does skip frames that are not a whole second at the end\n",
    "    while end <= len_frames:\n",
    "        \n",
    "        # randomly pick 20 frames, sort, append to big dataframe with name of file and export dataframe\n",
    "        insert = df_temp.iloc[start:end].sample(n_frames).sort_index(axis=0)\n",
    "        df_export = df_export.append(insert)\n",
    "        df_big =  df_big.append(insert)\n",
    "\n",
    "        # reset the index values to loop to the next data increment\n",
    "        end += fps\n",
    "        start += fps\n",
    "\n",
    "    #save files\n",
    "    filepath = input_dir/'Downsampled_data'\n",
    "    filename = path.stem + '.csv'\n",
    "    df_export.to_csv(filepath/filename,index = False) "
   ]
  }
 ],
 "metadata": {
  "kernelspec": {
   "display_name": "Python 3 (ipykernel)",
   "language": "python",
   "name": "python3"
  },
  "language_info": {
   "codemirror_mode": {
    "name": "ipython",
    "version": 3
   },
   "file_extension": ".py",
   "mimetype": "text/x-python",
   "name": "python",
   "nbconvert_exporter": "python",
   "pygments_lexer": "ipython3",
   "version": "3.8.8"
  }
 },
 "nbformat": 4,
 "nbformat_minor": 5
}
